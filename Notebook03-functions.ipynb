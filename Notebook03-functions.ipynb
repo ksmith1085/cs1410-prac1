{
  "cells": [
    {
      "cell_type": "markdown",
      "metadata": {
        "id": "dE5JeErIqTp3"
      },
      "source": [
        "<a target=\"_blank\" href=\"https://colab.research.google.com/github/WSU-CS1410-AA/cs1410-notebooks/blob/main/Notebook03-functions.ipynb\">\n",
        "  <img src=\"https://colab.research.google.com/assets/colab-badge.svg\" alt=\"Open In Colab\"/>\n",
        "</a>"
      ]
    },
    {
      "cell_type": "markdown",
      "metadata": {
        "id": "DeMt91O-qTp8"
      },
      "source": [
        "# Functions\n",
        "\n",
        "Functions are the bread and butter of programming. A function is a named group of statements that achieves a certain task and/or produces a specific outcome. Here is the **definition** of a function that prints a given `n` number of stars in the same line."
      ]
    },
    {
      "cell_type": "code",
      "execution_count": 1,
      "metadata": {
        "id": "nnhmiphQqTp8",
        "outputId": "ee1f5ae5-96c0-4cbe-e20c-d862d8508f91",
        "colab": {
          "base_uri": "https://localhost:8080/"
        }
      },
      "outputs": [
        {
          "output_type": "stream",
          "name": "stdout",
          "text": [
            "Writing ex01.cpp\n"
          ]
        }
      ],
      "source": [
        "%%writefile ex01.cpp\n",
        "\n",
        "#include <iostream>\n",
        "using namespace std;\n",
        "\n",
        "void printStars(int n){\n",
        "  for(int i = 0; i < n; i++){\n",
        "    cout << '*';\n",
        "  }\n",
        "  cout << endl;\n",
        "}\n",
        "\n",
        "int main(){\n",
        "  printStars(69);\n",
        "  printStars(37);\n",
        "  printStars(5);\n",
        "  printStars(45);\n",
        "\n",
        "  return 0;\n",
        "}"
      ]
    },
    {
      "cell_type": "markdown",
      "metadata": {
        "id": "Eovtu_3wqTp9"
      },
      "source": [
        "Now that we have this function, we can use it every time we want to print stars. For example, the main function above calls the `printStars()` four times.\n",
        "\n",
        "Let's run this program and check its output."
      ]
    },
    {
      "cell_type": "code",
      "execution_count": 2,
      "metadata": {
        "id": "amEauvqxqTp9",
        "outputId": "259b217b-c0b6-4c88-cc04-db39be28eba2",
        "colab": {
          "base_uri": "https://localhost:8080/"
        }
      },
      "outputs": [
        {
          "output_type": "stream",
          "name": "stdout",
          "text": [
            "*********************************************************************\n",
            "*************************************\n",
            "*****\n",
            "*********************************************\n"
          ]
        }
      ],
      "source": [
        "!g++ -std=c++17 ex01.cpp -o ex01\n",
        "!./ex01"
      ]
    },
    {
      "cell_type": "markdown",
      "metadata": {
        "id": "KsikbNm_qTp-"
      },
      "source": [
        "## Function prototypes\n",
        "C++ distinguishes **function definitions** such as the above definition of the `printStars` function from **function prototypes**. A **function prototype** contains only:\n",
        "* the return type,\n",
        "* the name,\n",
        "* the parameter list, and\n",
        "* semicolon\n",
        "\n",
        "Function prototypes typically reside in header files (.h files); they introduce functions to the compiler and allow us to call functions before we define them.\n",
        "\n",
        "Here is the **prototype** of the **function definition** above.\n",
        "\n",
        "```cpp\n",
        "void printStars(int n);\n",
        "```\n",
        "\n",
        "And here are two more example function prototypes:\n",
        "\n",
        "```cpp\n",
        "// Prototypes\n",
        "bool isOdd(int x);\n",
        "bool isEven(int);\n",
        "```\n",
        "\n",
        "Notice how inside the parameter list (between the parentheses), only the parameter types are required; the names of the parameters are optional."
      ]
    },
    {
      "cell_type": "markdown",
      "metadata": {
        "id": "7dKdAqc0qTp-"
      },
      "source": [
        "\n",
        "## Function definitions\n",
        "A function definition is a full specification of the function. Here are the definitions of the above prototypes.\n",
        "\n",
        "```cpp\n",
        "bool isOdd(int x){\n",
        "    return x % 2 != 0;\n",
        "}\n",
        "\n",
        "bool isEven(int x){\n",
        "    return !isOdd(x);\n",
        "}\n",
        "```"
      ]
    },
    {
      "cell_type": "markdown",
      "metadata": {
        "id": "ynakhpgIqTp_"
      },
      "source": [
        "Take, for example, the above definition of the `isOdd` function. This definition consists of the following parts:\n",
        "* The type of the value returned by the function:\n",
        "\n",
        " `bool`\n",
        "\n",
        "* The name of the function:\n",
        "\n",
        " `isOdd`\n",
        "\n",
        "* The list of the function's expected parameters placed between `(` and `)`:\n",
        "\n",
        " `(int x)`\n",
        "\n",
        " Keep in mind that in functions definitions, both parameter types and names are required.\n",
        "\n",
        "* The body of the function placed between `{` and `}`:\n",
        "\n",
        " ```\n",
        " {\n",
        "    return x % 2 != 0;\n",
        " }\n",
        " ```\n",
        "\n",
        " Always remember that **a function that is supposed to return a value must contain a `return` statement**. In other words, if the function's return type is not `void`, its body must have at least a single return statement.\n",
        "\n",
        "## Calling functions\n",
        "Functions have to be called. A function that is never called is useless. We call functions by using their names followed by zero or more comma-separated argument list within parentheses `()`. Doing so transfers control from the calling program to the function itself. This control will return back to the calling program when the end of the function is reached or when a `return` statement is encountered. Here are example calls to the functions we defined earlier. These functions are being called to figure out the type of a given number. For example,\n",
        "\n",
        "```cpp\n",
        "isOdd(13);\n",
        "```"
      ]
    },
    {
      "cell_type": "markdown",
      "metadata": {
        "id": "m332YP1dqTp_"
      },
      "source": [
        "## CODING CHALLENGE 1\n",
        "\n",
        "Write the **function prototypes** for the following two functions: one with parameter types only and one with both parameter types and names.\n",
        "\n",
        "``` C++\n",
        "bool isLessThan(double a, double b) {\n",
        "    return a < b;\n",
        "}\n",
        "\n",
        "float maximumOfThree(float a, float b, float c) {\n",
        "    if(a > b){\n",
        "        if(a > c){\n",
        "            return a;\n",
        "        } else {\n",
        "            return c;\n",
        "        }\n",
        "    } else {\n",
        "        if (b > c) {\n",
        "            return b;\n",
        "        } else {\n",
        "            return c;\n",
        "        }\n",
        "    }\n",
        "    \n",
        "}\n",
        "```\n",
        "\n",
        "Call these functions in the main function below and display their returned values in the program below."
      ]
    },
    {
      "cell_type": "code",
      "execution_count": 9,
      "metadata": {
        "id": "OvxaynJhqTp_",
        "outputId": "65a9376f-e85e-4917-c23f-c774b9936c78",
        "colab": {
          "base_uri": "https://localhost:8080/"
        }
      },
      "outputs": [
        {
          "output_type": "stream",
          "name": "stdout",
          "text": [
            "Overwriting ch01.cpp\n"
          ]
        }
      ],
      "source": [
        "%%writefile ch01.cpp\n",
        "\n",
        "#include <iostream>\n",
        "using namespace std;\n",
        "\n",
        "// TODO: Add prototypes here\n",
        "bool isLessThan(double a, double b);\n",
        "float maximumOfThree(float a, float b, float c);\n",
        "\n",
        "// TODO: Copy the definitions above here\n",
        "bool isLessThan(double a, double b){\n",
        "  return a < b;\n",
        "}\n",
        "\n",
        "float maximumOfThree(float a, float b, float c){\n",
        "  if(a > b){\n",
        "    if(a > c){\n",
        "      return a;\n",
        "    } else{\n",
        "      return c;\n",
        "    }\n",
        "  } else{\n",
        "      if(b > c){\n",
        "        return b;\n",
        "      }else {\n",
        "      return c;\n",
        "    }\n",
        "  }\n",
        "}\n",
        "\n",
        "int main(){\n",
        "  // TODO: Call the above functions here\n",
        "  double x, y;\n",
        "  float a, b, c;\n",
        "\n",
        "  //have user be notified to enter and then have them enter\n",
        "  cout << \"Enter two numbers for x and y: \";\n",
        "  cin >> x >> y;\n",
        "\n",
        "  cout << \"Now enter 3 numbers for a, b, and c: \";\n",
        "  cin >> a >> b >> c;\n",
        "\n",
        "  bool xOry = isLessThan(x, y);\n",
        "  float aOrbOrc = maximumOfThree(a, b, c);\n",
        "\n",
        "  cout << x << y << \"This is the lowest: \" << xOry <<  endl;\n",
        "  cout << a << b << c << \"this is the highest: \" << aOrbOrc << endl;//I didn't put the space or the text in\n",
        "  //except for the results. I didn't feel the need to put in the spaces\n",
        "\n",
        "  return 0;\n",
        "}"
      ]
    },
    {
      "cell_type": "code",
      "source": [
        "!g++ -std=c++17 ch01.cpp -o ch01\n",
        "!./ch01"
      ],
      "metadata": {
        "id": "uY4mQXect0k2",
        "outputId": "9afd835a-95d4-459e-ce4e-7dcbdcd409ba",
        "colab": {
          "base_uri": "https://localhost:8080/"
        }
      },
      "execution_count": 10,
      "outputs": [
        {
          "output_type": "stream",
          "name": "stdout",
          "text": [
            "Enter two numbers for x and y: 5\n",
            "8\n",
            "Now enter 3 numbers for a, b, and c: 4\n",
            "5\n",
            "6\n",
            "58This is the lowest: 1\n",
            "456this is the highest: 6\n"
          ]
        }
      ]
    },
    {
      "cell_type": "markdown",
      "source": [
        "## Another example\n",
        "Here is a example program displaying a table of numbers and whether they are odd or even:"
      ],
      "metadata": {
        "id": "I2ZypGUUvXUf"
      }
    },
    {
      "cell_type": "code",
      "execution_count": 11,
      "metadata": {
        "id": "a_m23UI1qTqA",
        "outputId": "71a63499-0cf4-4d5f-a4d7-63464aa32dba",
        "colab": {
          "base_uri": "https://localhost:8080/"
        }
      },
      "outputs": [
        {
          "output_type": "stream",
          "name": "stdout",
          "text": [
            "Writing ex02.cpp\n"
          ]
        }
      ],
      "source": [
        "%%writefile ex02.cpp\n",
        "\n",
        "#include <iostream>\n",
        "#include <iomanip>\n",
        "\n",
        "using namespace std;\n",
        "\n",
        "// Prototypes\n",
        "bool isOdd(int);\n",
        "bool isEven(int);\n",
        "\n",
        "// Definitions\n",
        "bool isOdd(int x){\n",
        "  return x % 2 == 1;\n",
        "}\n",
        "\n",
        "bool isEven(int x){\n",
        "  return !isOdd(x);\n",
        "}\n",
        "\n",
        "int main(){\n",
        "  cout << setw(8) << \"Number\" << setw(6) << \"Odd?\"    << setw(7) << \"Even?\"    << endl;\n",
        "  cout << setw(8) << 97       << setw(6) << isOdd(97) << setw(7) << isEven(97) << endl;\n",
        "  cout << setw(8) << 34       << setw(6) << isOdd(34) << setw(7) << isEven(34) << endl;\n",
        "\n",
        "  return 0;\n",
        "}"
      ]
    },
    {
      "cell_type": "markdown",
      "source": [
        "Notice this `isEven()` is defined as the negation (opposite) of `isOdd()`."
      ],
      "metadata": {
        "id": "KVdHtCTfw9dP"
      }
    },
    {
      "cell_type": "code",
      "source": [
        "!g++ -std=c++17 ex02.cpp -o ex01\n",
        "!./ex01"
      ],
      "metadata": {
        "id": "bOVCzF1Hwt8G",
        "outputId": "e87eaed3-15f7-447f-d231-aff305880e15",
        "colab": {
          "base_uri": "https://localhost:8080/"
        }
      },
      "execution_count": 12,
      "outputs": [
        {
          "output_type": "stream",
          "name": "stdout",
          "text": [
            "  Number  Odd?  Even?\n",
            "      97     1      0\n",
            "      34     0      1\n"
          ]
        }
      ]
    },
    {
      "cell_type": "markdown",
      "metadata": {
        "id": "JYzkMxGTqTqA"
      },
      "source": [
        "## CODING CHALLENGE 2\n",
        "\n",
        "Another example function is one that takes two integers and returns the integer that is the minimum of the two. In the program below, write the proptotype and definition of this `minimum` function. In the `main()` function, use a `cout` statement that calls the `minimum` function to print which of the following two numbers is minimum: 46, or 38"
      ]
    },
    {
      "cell_type": "code",
      "execution_count": 36,
      "metadata": {
        "id": "pWMJDNwAqTqA",
        "outputId": "e09bcd3f-dd55-4dc9-e61b-18bfa59e3944",
        "colab": {
          "base_uri": "https://localhost:8080/"
        }
      },
      "outputs": [
        {
          "output_type": "stream",
          "name": "stdout",
          "text": [
            "Overwriting ch02.cpp\n"
          ]
        }
      ],
      "source": [
        "%%writefile ch02.cpp\n",
        "\n",
        "#include <iostream>\n",
        "using namespace std;\n",
        "\n",
        "// TODO: Add prototoye here\n",
        "int min(int x,int y);\n",
        "\n",
        "// TODO: Add definition here\n",
        "int min(int x, int y){\n",
        "  return (x < y) ? x : y;\n",
        "}\n",
        "\n",
        "int main(){\n",
        "  // TODO: Call function here\n",
        "  int x, y;\n",
        "  cout << \"Enter x and y: \";\n",
        "  cin >> x >> y;\n",
        "\n",
        "  int result = min(x, y);\n",
        "\n",
        "  cout << \"Which of the following is less then: \" << x << \" or \" << y << \"? \" << result << endl;\n",
        "\n",
        "  return 0;\n",
        "}//I used some of the same program as above. I don't know if int is a prototype though. Guess I could google that"
      ]
    },
    {
      "cell_type": "code",
      "execution_count": 37,
      "metadata": {
        "id": "Mb-opOuqqTqB",
        "outputId": "4ef010a4-a309-4fbe-c83f-85ee306cbe68",
        "colab": {
          "base_uri": "https://localhost:8080/"
        }
      },
      "outputs": [
        {
          "output_type": "stream",
          "name": "stdout",
          "text": [
            "Enter x and y: 46\n",
            "38\n",
            "Which of the following is less then: 46 or 38? 38\n"
          ]
        }
      ],
      "source": [
        "!g++ -std=c++17 ch02.cpp -o ch02\n",
        "!./ch02"
      ]
    },
    {
      "cell_type": "markdown",
      "metadata": {
        "id": "aZ8qqJZzqTqB"
      },
      "source": [
        "## Yet another example\n",
        "Here is another example function for converting weights from pounds to kilograms, starting with the function prototype."
      ]
    },
    {
      "cell_type": "code",
      "source": [
        "%%writefile ex03.cpp\n",
        "\n",
        "#include <iostream>\n",
        "using namespace std;\n",
        "\n",
        "// TODO: Add prototoye here\n",
        "double lbs2kgs(double);\n",
        "\n",
        "// TODO: Add definition here\n",
        "double lbs2kgs(double pounds){\n",
        "  double kilograms =  0.453592 * pounds;\n",
        "  return kilograms;\n",
        "}\n",
        "\n",
        "int main(){\n",
        "  // TODO: Call function here\n",
        "  double lbs, kgs;\n",
        "\n",
        "  cout << \"Enter weight in pounds:\\n\"; cin >> lbs;\n",
        "  kgs = lbs2kgs(lbs);\n",
        "  cout << \"Weight in kilograms: \" << kgs << endl;\n",
        "\n",
        "  return 0;\n",
        "}"
      ],
      "metadata": {
        "id": "q8C-t6hoyzKY",
        "outputId": "e8c8322d-f64f-4d45-bce6-6d9ae4966a59",
        "colab": {
          "base_uri": "https://localhost:8080/"
        }
      },
      "execution_count": 38,
      "outputs": [
        {
          "output_type": "stream",
          "name": "stdout",
          "text": [
            "Writing ex03.cpp\n"
          ]
        }
      ]
    },
    {
      "cell_type": "markdown",
      "metadata": {
        "id": "IGoltXd_qTqB"
      },
      "source": [
        "Notice that any variable defined inside a function is a **local variable**; it only exists within that function. For example, the variable `kilograms` is a local variable of the `lbs2kgs` function and so is the variable `pounds`. Both exist only inside the `lbs2kgs` function and cannot be used outside of it. In other words, their **scope** is local and limited to the function that defines them.\n",
        "\n",
        "Let's run this program:"
      ]
    },
    {
      "cell_type": "code",
      "execution_count": 39,
      "metadata": {
        "id": "dSiY4KonqTqB",
        "outputId": "afbf31f8-8438-4057-8efc-63cb71098125",
        "colab": {
          "base_uri": "https://localhost:8080/"
        }
      },
      "outputs": [
        {
          "output_type": "stream",
          "name": "stdout",
          "text": [
            "Enter weight in pounds:\n",
            "271.1\n",
            "Weight in kilograms: 122.969\n"
          ]
        }
      ],
      "source": [
        "!g++ -std=c++17 ex03.cpp -o ex03\n",
        "!./ex03"
      ]
    },
    {
      "cell_type": "markdown",
      "metadata": {
        "id": "7p9N0eTJqTqC"
      },
      "source": [
        "## CODING CHALLENGE 3\n",
        "\n",
        "In the code cell below, write the prototype of a function named `kgs2lbs` that converts kilograms into pounds. In the next code cell after that, write the definition of this function. In the next code cell after that, write some c++ code that will test your `kgs2lbs` function just like we did in the example above."
      ]
    },
    {
      "cell_type": "code",
      "execution_count": 45,
      "metadata": {
        "id": "_ipdZEX8qTqC",
        "outputId": "d85e8b82-9895-4c66-93f5-449e2ecdaed3",
        "colab": {
          "base_uri": "https://localhost:8080/"
        }
      },
      "outputs": [
        {
          "output_type": "stream",
          "name": "stdout",
          "text": [
            "Overwriting ch03.cpp\n"
          ]
        }
      ],
      "source": [
        "%%writefile ch03.cpp\n",
        "\n",
        "#include <iostream>\n",
        "using namespace std;\n",
        "\n",
        "// TODO: Add prototoye here\n",
        "double kgs2lbs(double);\n",
        "\n",
        "// TODO: Add definition here\n",
        "double kgs2lbs(double kilograms){\n",
        "  double pounds = kilograms / 0.453592;\n",
        "  return pounds;\n",
        "}\n",
        "\n",
        "int main(){\n",
        "  // TODO: Test function here\n",
        "  double kgs, lbs;\n",
        "\n",
        "  cout << \"Enter weight in kilograms:\\n\"; //asking the user\n",
        "  cin >> kgs; //setting what we asked the user for\n",
        "\n",
        "  lbs = kgs2lbs(kgs);//don't forget the actual conversion!!!\n",
        "\n",
        "  cout << \"Weight in pounds: \" << lbs << endl;// the conversion from the above function\n",
        "\n",
        "  return 0;\n",
        "}"
      ]
    },
    {
      "cell_type": "code",
      "execution_count": 46,
      "metadata": {
        "id": "LHJLggPyqTqC",
        "outputId": "c0e5c354-b921-4dd4-d792-970a1000771e",
        "colab": {
          "base_uri": "https://localhost:8080/"
        }
      },
      "outputs": [
        {
          "output_type": "stream",
          "name": "stdout",
          "text": [
            "Enter weight in kilograms:\n",
            "122\n",
            "Weight in pounds: 268.964\n"
          ]
        }
      ],
      "source": [
        "!g++ -std=c++17 ch03.cpp -o ch03\n",
        "!./ch03"
      ]
    },
    {
      "cell_type": "markdown",
      "metadata": {
        "id": "ag9cHGs_qTqC"
      },
      "source": [
        "## Passing arguments/parameters to functions\n",
        "In C++, arguments/parameters can be passed to a function in one of three ways:\n",
        "1. **By value** which creates copies of the passed data and passes those copies to the function. This protects the original arguments from being changed inside the function.\n",
        "2. **By reference** which uses references to pass the original arguments to the function. These original arguments can now be changed inside the function.\n",
        "3. **By pointer** which is similar to **by reference** in passing the original arguments to the function but uses pointers instead. We will cover this when we study **pointers**.\n",
        "\n",
        "The functions above used passing by value. Here is another example of passing by value, where a copy of the value of `n` is created and passed to the `incrementBy2` function."
      ]
    },
    {
      "cell_type": "code",
      "execution_count": 47,
      "metadata": {
        "id": "vq8bL3L3qTqC",
        "outputId": "b0fccb8a-08d2-4667-bc28-6ad4f045ca73",
        "colab": {
          "base_uri": "https://localhost:8080/"
        }
      },
      "outputs": [
        {
          "output_type": "stream",
          "name": "stdout",
          "text": [
            "Writing ex04.cpp\n"
          ]
        }
      ],
      "source": [
        "%%writefile ex04.cpp\n",
        "\n",
        "#include <iostream>\n",
        "using namespace std;\n",
        "\n",
        "// TODO: Add prototoye here\n",
        "int incrementBy2(int);\n",
        "\n",
        "// TODO: Add definition here\n",
        "int incrementBy2(int n){\n",
        "  return ++(++n);\n",
        "}\n",
        "\n",
        "int main(){\n",
        "  // TODO: Test function here\n",
        "  int n = 15;\n",
        "\n",
        "  cout << \"n = \" << n << endl;\n",
        "  cout << \"n = \" << incrementBy2(n) << endl;\n",
        "  cout << \"n = \" << n << endl;\n",
        "\n",
        "  return 0;\n",
        "}"
      ]
    },
    {
      "cell_type": "markdown",
      "source": [
        "This function receives a copy of `n` which it increments twice but that does not affect the original `n`.\n"
      ],
      "metadata": {
        "id": "LtLnLSuC03w2"
      }
    },
    {
      "cell_type": "code",
      "execution_count": 48,
      "metadata": {
        "id": "A2Z1KjfKqTqC",
        "outputId": "021e9983-96ab-4f06-d6a0-367122bed084",
        "colab": {
          "base_uri": "https://localhost:8080/"
        }
      },
      "outputs": [
        {
          "output_type": "stream",
          "name": "stdout",
          "text": [
            "n = 15\n",
            "n = 17\n",
            "n = 15\n"
          ]
        }
      ],
      "source": [
        "!g++ -std=c++17 ex04.cpp -o ex04\n",
        "!./ex04"
      ]
    },
    {
      "cell_type": "markdown",
      "metadata": {
        "id": "rTkiYuSNqTqD"
      },
      "source": [
        "## References\n",
        "To avoid copying big values when calling a function, **references** should be used. A **reference** is just another name or an alias for a variable. We use the ampersand `&` operator to define references which takes the form:\n",
        "\n",
        "``` c++\n",
        "<datatype>& <alias> = <variable>;\n",
        "```\n",
        "\n",
        "For example, in:\n",
        "\n",
        "```cpp\n",
        "int x = 9;\n",
        "int& y = x;\n",
        "```\n",
        "\n",
        "`y` is a reference or another name for `x`.  That means `y` is pointing to the same location of memory as `x` and by changing `y`, `x` automatically changes. That is, the following:\n",
        "\n",
        "```cpp\n",
        "y = 17;\n",
        "cout << x;\n",
        "```\n",
        "\n",
        "prints:\n",
        "\n",
        "```txt\n",
        "17\n",
        "```"
      ]
    },
    {
      "cell_type": "markdown",
      "metadata": {
        "id": "rB9UfF8TqTqD"
      },
      "source": [
        "References are meant to be a safer and better alternative to pointers (which we will see later); they have the following properties which make them safe to use:\n",
        "* Once created, they cannot be changed; in other words, they cannot be made to reference other variables; and\n",
        "* They cannot be `null`.\n",
        "\n",
        "Because of these properties, they are commonly used for giving functions access to the original values of their parameters without copying them. This is called **passing arguments by reference**, which is faster and more efficient than **passing by value**.\n",
        "\n",
        "Here is an example of passing arguments **by reference**. Notice the use of ampersands `&` after the arguments' data types."
      ]
    },
    {
      "cell_type": "code",
      "execution_count": 49,
      "metadata": {
        "id": "j73d2MNZqTqE",
        "outputId": "6d310fca-dc1a-41f8-a318-eb4a98335b6a",
        "colab": {
          "base_uri": "https://localhost:8080/"
        }
      },
      "outputs": [
        {
          "output_type": "stream",
          "name": "stdout",
          "text": [
            "Writing ex05.cpp\n"
          ]
        }
      ],
      "source": [
        "%%writefile ex05.cpp\n",
        "\n",
        "#include <iostream>\n",
        "using namespace std;\n",
        "\n",
        "// TODO: Add prototoye here\n",
        "void swapValues(int&, int&);\n",
        "\n",
        "// TODO: Add definition here\n",
        "void swapValues(int& n, int& m){\n",
        "  int o = n;\n",
        "  n = m;\n",
        "  m = o;\n",
        "}\n",
        "\n",
        "int main(){\n",
        "  // TODO: Test function here\n",
        "  int a = 10;\n",
        "  int b = 15;\n",
        "\n",
        "  cout << \"a = \" << a << \", b = \" << b << endl;\n",
        "  swapValues(a, b);\n",
        "  cout << \"a = \" << a << \", b = \" << b << endl;\n",
        "\n",
        "  return 0;\n",
        "}"
      ]
    },
    {
      "cell_type": "markdown",
      "metadata": {
        "id": "H6OFyM8GqTqE"
      },
      "source": [
        "Let's decompose the above function definition into its parts:\n",
        "\n",
        "* The type of the value returned by the function:\n",
        "\n",
        " `void`\n",
        "\n",
        "* The name of the function:\n",
        "\n",
        " `swapValues`\n",
        "\n",
        "* The list of the function's expected parameters placed between `(` and `)`:\n",
        "\n",
        " `(int& n, int& m)`\n",
        "\n",
        " This function expects two integer parameters passed to it by reference.\n",
        "\n",
        "* The body of the function placed between `{` and `}`:\n",
        "\n",
        " ```\n",
        "   {\n",
        "      int o = n;\n",
        "      n = m;\n",
        "      m = o;\n",
        "   }\n",
        " ```\n",
        "\n",
        " This function being a `void`-returning function does not need a return statement. The function will automatically return when it reaches the `}` at the and.\n",
        "\n",
        "Here the output of the above program:"
      ]
    },
    {
      "cell_type": "code",
      "execution_count": 50,
      "metadata": {
        "id": "s-m4jyzLqTqE",
        "outputId": "154c3a15-76a1-4eb2-83ec-9496683d5385",
        "colab": {
          "base_uri": "https://localhost:8080/"
        }
      },
      "outputs": [
        {
          "output_type": "stream",
          "name": "stdout",
          "text": [
            "a = 10, b = 15\n",
            "a = 15, b = 10\n"
          ]
        }
      ],
      "source": [
        "!g++ -std=c++17 ex05.cpp -o ex05\n",
        "!./ex05"
      ]
    },
    {
      "cell_type": "markdown",
      "metadata": {
        "id": "mASbVn_ZqTqE"
      },
      "source": [
        "## Overloaded functions\n",
        "C++ allows multiple functions to have the same name as long as their signatures are different or unique. In other words, functions can have the same name as long as they are different in either the kinds of arguments they take or the number of arguments they take. We call functions with the same name as others **overloaded functions**.\n",
        "\n",
        "Here are examples of overloaded functions where the only difference is in the kinds of their arguments.\n",
        "\n",
        "``` c++\n",
        "void swapValues(int&, int&);\n",
        "void swapValues(double&, double&);\n",
        "```\n",
        "\n",
        "And here are other overloaded functions taking a different number of arguments.\n",
        "\n",
        "``` c++\n",
        "int findMax(int, int);\n",
        "int findMax(int, int, int);\n",
        "```\n",
        "\n",
        "## CODING CHALLENGE 4\n",
        "\n",
        "In the program below, define the following overloaded function.\n",
        "``` c++\n",
        "void swapValues(long&, long&);\n",
        "void swapValues(double&, double&);\n",
        "```\n",
        "\n",
        "In the next cell after that, test your function."
      ]
    },
    {
      "cell_type": "code",
      "execution_count": null,
      "metadata": {
        "id": "WciF9hOkqTqE",
        "outputId": "468af0e6-c886-403e-c06d-2cecf5589597",
        "colab": {
          "base_uri": "https://localhost:8080/"
        }
      },
      "outputs": [
        {
          "output_type": "stream",
          "name": "stdout",
          "text": [
            "Overwriting ch04.cpp\n"
          ]
        }
      ],
      "source": [
        "%%writefile ch04.cpp\n",
        "\n",
        "#include <iostream>\n",
        "using namespace std;\n",
        "\n",
        "// TODO: Add prototypes here\n",
        "void swapValues(long&, long&);\n",
        "void swapValues(double&, double&);\n",
        "\n",
        "// TODO: Add definitions here\n",
        "\n",
        "\n",
        "int main(){\n",
        "  // TODO: Test functions here\n",
        "\n",
        "  return 0;\n",
        "}"
      ]
    },
    {
      "cell_type": "code",
      "execution_count": null,
      "metadata": {
        "id": "ttmjxgU-qTqF"
      },
      "outputs": [],
      "source": [
        "!g++ -std=c++17 ch04.cpp -o ch04\n",
        "!./ch04"
      ]
    }
  ],
  "metadata": {
    "kernelspec": {
      "display_name": "Python 3",
      "name": "python3"
    },
    "language_info": {
      "name": "python"
    },
    "colab": {
      "provenance": [],
      "toc_visible": true
    }
  },
  "nbformat": 4,
  "nbformat_minor": 0
}